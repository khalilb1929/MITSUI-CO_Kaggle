{
  "cells": [
    {
      "cell_type": "markdown",
      "id": "50a5b6f3",
      "metadata": {
        "id": "50a5b6f3"
      },
      "source": [
        "# 🎯 Mitsui Commodity Prediction - Production Model\n",
        "\n",
        "Optimized ML model for predicting 424 commodity targets across multiple global markets (LME, JPX, US, FX).\n",
        "Uses **XGBoost** regression with advanced feature engineering for rank correlation Sharpe ratio optimization."
      ]
    },
    {
      "cell_type": "code",
      "execution_count": null,
      "id": "92926504",
      "metadata": {
        "id": "92926504"
      },
      "outputs": [],
      "source": [
        "# Essential imports\n",
        "\n",
        "import warnings\n",
        "import numpy as np\n",
        "import polars as pl\n",
        "import pandas as pd\n",
        "import os\n",
        "import xgboost as xgb\n",
        "from sklearn.multioutput import MultiOutputRegressor\n",
        "from sklearn.preprocessing import StandardScaler\n",
        "from sklearn.metrics import mean_squared_error\n",
        "from scipy.stats import spearmanr\n",
        "\n",
        "warnings.filterwarnings('ignore')\n",
        "NUM_TARGET_COLUMNS = 424"
      ]
    },
    {
      "cell_type": "code",
      "execution_count": null,
      "id": "ReYJQr4HD7MC",
      "metadata": {
        "colab": {
          "base_uri": "https://localhost:8080/"
        },
        "id": "ReYJQr4HD7MC",
        "outputId": "9a02c3e9-0b25-4753-9332-bf245099f7e2"
      },
      "outputs": [
        {
          "name": "stdout",
          "output_type": "stream",
          "text": [
            "Drive already mounted at /content/drive; to attempt to forcibly remount, call drive.mount(\"/content/drive\", force_remount=True).\n",
            "Copying files from /content/drive/MyDrive/Colab Notebooks/mitsui-commodity-prediction-challenge/ to /content/\n",
            "Copied '/content/drive/MyDrive/Colab Notebooks/mitsui-commodity-prediction-challenge/kaggle_evaluation' to '/content/kaggle_evaluation'\n",
            "Copied '/content/drive/MyDrive/Colab Notebooks/mitsui-commodity-prediction-challenge/lagged_test_labels' to '/content/lagged_test_labels'\n",
            "Copied 'train.csv' to '/content/'\n",
            "Copied 'test.csv' to '/content/'\n",
            "Copied 'target_pairs.csv' to '/content/'\n",
            "Copied 'train_labels.csv' to '/content/'\n",
            "Copied 'submission.parquet' to '/content/'\n",
            "Copied 'model_optimized.ipynb' to '/content/'\n"
          ]
        }
      ],
      "source": []
    },
    {
      "cell_type": "code",
      "execution_count": null,
      "id": "Kd0d0j85D-TS",
      "metadata": {
        "id": "Kd0d0j85D-TS"
      },
      "outputs": [],
      "source": [
        "import kaggle_evaluation.mitsui_inference_server"
      ]
    },
    {
      "cell_type": "code",
      "execution_count": null,
      "id": "0b527289",
      "metadata": {
        "id": "0b527289"
      },
      "outputs": [],
      "source": [
        "def create_features(df):\n",
        "    \"\"\"Advanced feature engineering for commodity prediction\"\"\"\n",
        "\n",
        "    # Base features (excluding date_id and targets)\n",
        "    feature_cols = [col for col in df.columns\n",
        "                   if not col.startswith('target_') and col != 'date_id']\n",
        "    X = df[feature_cols].copy()\n",
        "\n",
        "    # Handle missing values\n",
        "    X = X.fillna(method='ffill').fillna(X.median())\n",
        "\n",
        "    # 1. Lagged features (1-5 days)\n",
        "    original_cols = X.columns.tolist()\n",
        "    for lag in range(1, 6):\n",
        "        for col in original_cols[:50]:  # Limit to prevent explosion\n",
        "            X[f'{col}_lag_{lag}'] = X[col].shift(lag)\n",
        "\n",
        "    # 2. Rolling statistics (5, 10, 20 day windows)\n",
        "    windows = [5, 10, 20]\n",
        "    for window in windows:\n",
        "        for col in original_cols[:30]:\n",
        "            X[f'{col}_ma_{window}'] = X[col].rolling(window).mean()\n",
        "            X[f'{col}_std_{window}'] = X[col].rolling(window).std()\n",
        "\n",
        "    # 3. Momentum features\n",
        "    for col in original_cols[:20]:\n",
        "        X[f'{col}_momentum_5'] = X[col] / X[col].shift(5) - 1\n",
        "        X[f'{col}_momentum_10'] = X[col] / X[col].shift(10) - 1\n",
        "\n",
        "    # 4. Cross-market ratios (LME metals)\n",
        "    lme_cols = [col for col in original_cols if col.startswith('LME_') and col.endswith('_Close')]\n",
        "    for i, col1 in enumerate(lme_cols[:5]):\n",
        "        for col2 in lme_cols[i+1:6]:\n",
        "            X[f'{col1}_vs_{col2}_ratio'] = X[col1] / (X[col2] + 1e-8)\n",
        "\n",
        "    # 5. Volatility features\n",
        "    for col in original_cols[:15]:\n",
        "        X[f'{col}_volatility_10'] = X[col].rolling(10).std() / (X[col].rolling(10).mean() + 1e-8)\n",
        "\n",
        "    # Final cleanup\n",
        "    X = X.fillna(X.median())\n",
        "    return X"
      ]
    },
    {
      "cell_type": "code",
      "execution_count": null,
      "id": "faa34d4b",
      "metadata": {
        "id": "faa34d4b"
      },
      "outputs": [],
      "source": [
        "def rank_correlation_score(y_true, y_pred):\n",
        "    \"\"\"Calculate rank correlation Sharpe ratio (competition metric)\"\"\"\n",
        "    daily_correlations = []\n",
        "\n",
        "    for i in range(len(y_true)):\n",
        "        true_row = y_true[i]\n",
        "        pred_row = y_pred[i]\n",
        "\n",
        "        # Find non-null values\n",
        "        mask = ~np.isnan(true_row)\n",
        "        if mask.sum() < 2:\n",
        "            continue\n",
        "\n",
        "        true_vals = true_row[mask]\n",
        "        pred_vals = pred_row[mask]\n",
        "\n",
        "        # Calculate rank correlation\n",
        "        if np.std(true_vals) > 0 and np.std(pred_vals) > 0:\n",
        "            corr, _ = spearmanr(true_vals, pred_vals)\n",
        "            if not np.isnan(corr):\n",
        "                daily_correlations.append(corr)\n",
        "\n",
        "    if len(daily_correlations) == 0:\n",
        "        return 0.0\n",
        "\n",
        "    daily_correlations = np.array(daily_correlations)\n",
        "    mean_corr = np.mean(daily_correlations)\n",
        "    std_corr = np.std(daily_correlations)\n",
        "\n",
        "    return mean_corr / std_corr if std_corr != 0 else 0.0"
      ]
    },
    {
      "cell_type": "code",
      "execution_count": null,
      "id": "07e18e00",
      "metadata": {
        "colab": {
          "base_uri": "https://localhost:8080/"
        },
        "id": "07e18e00",
        "outputId": "10a6d952-5dcc-4d6f-ed26-5389b8882ae5"
      },
      "outputs": [
        {
          "name": "stdout",
          "output_type": "stream",
          "text": [
            "Loading training data...\n",
            "Training data shape: (1917, 982)\n",
            "Creating 424 target predictions...\n",
            "Feature engineering complete: 1048 features\n"
          ]
        }
      ],
      "source": [
        "# Load and prepare training data\n",
        "print(\"Loading training data...\")\n",
        "train_df = pd.read_csv('train.csv')\n",
        "train_labels_df = pd.read_csv('train_labels.csv')\n",
        "train_merged = train_df.merge(train_labels_df, on='date_id', how='inner')\n",
        "\n",
        "print(f\"Training data shape: {train_merged.shape}\")\n",
        "\n",
        "# Prepare features and targets\n",
        "target_cols = [col for col in train_merged.columns if col.startswith('target_')]\n",
        "print(f\"Creating {len(target_cols)} target predictions...\")\n",
        "\n",
        "X_train_raw = create_features(train_merged)\n",
        "y_train = train_merged[target_cols].values\n",
        "\n",
        "# Handle missing targets\n",
        "target_medians = np.nanmedian(y_train, axis=0)\n",
        "y_train_filled = np.where(np.isnan(y_train), target_medians, y_train)\n",
        "\n",
        "print(f\"Feature engineering complete: {X_train_raw.shape[1]} features\")"
      ]
    },
    {
      "cell_type": "code",
      "execution_count": null,
      "id": "27e761f1",
      "metadata": {
        "colab": {
          "base_uri": "https://localhost:8080/"
        },
        "id": "27e761f1",
        "outputId": "4fddd1cf-c90e-471e-c818-14c32712fafd"
      },
      "outputs": [
        {
          "name": "stdout",
          "output_type": "stream",
          "text": [
            "Training samples: 1717\n",
            "Validation samples: 200\n"
          ]
        }
      ],
      "source": [
        "# Train-validation split (time series)\n",
        "val_split = len(X_train_raw) - 200\n",
        "X_train = X_train_raw.iloc[:val_split]\n",
        "X_val = X_train_raw.iloc[val_split:]\n",
        "y_train_split = y_train_filled[:val_split]\n",
        "y_val_split = y_train_filled[val_split:]\n",
        "\n",
        "# Feature scaling\n",
        "scaler = StandardScaler()\n",
        "X_train_scaled = scaler.fit_transform(X_train)\n",
        "X_val_scaled = scaler.transform(X_val)\n",
        "\n",
        "# Clean data\n",
        "X_train_scaled = np.nan_to_num(X_train_scaled, nan=0.0, posinf=0.0, neginf=0.0)\n",
        "X_val_scaled = np.nan_to_num(X_val_scaled, nan=0.0, posinf=0.0, neginf=0.0)\n",
        "\n",
        "print(f\"Training samples: {len(X_train_scaled)}\")\n",
        "print(f\"Validation samples: {len(X_val_scaled)}\")"
      ]
    },
    {
      "cell_type": "code",
      "execution_count": null,
      "id": "cb9b4953",
      "metadata": {
        "colab": {
          "base_uri": "https://localhost:8080/"
        },
        "id": "cb9b4953",
        "outputId": "1cda7295-c605-457f-d890-087e50b9bb84"
      },
      "outputs": [
        {
          "name": "stdout",
          "output_type": "stream",
          "text": [
            "Training XGBoost model...\n",
            "Starting validation training (fast mode)...\n"
          ]
        }
      ],
      "source": [
        "# Train XGBoost model (optimized for rank correlation)\n",
        "print(\"Training XGBoost model...\")\n",
        "\n",
        "# Configure XGBoost for FAST validation (reduced parameters)\n",
        "xgb_base = xgb.XGBRegressor(\n",
        "    n_estimators=50,         # Réduit de 200 à 50 pour validation rapide\n",
        "    learning_rate=0.1,       # Augmenté de 0.05 à 0.1 pour compenser moins d'arbres\n",
        "    max_depth=4,             # Réduit de 6 à 4 pour arbres plus simples\n",
        "    subsample=0.8,\n",
        "    colsample_bytree=0.8,\n",
        "    random_state=42,\n",
        "    n_jobs=-1,\n",
        "    tree_method='hist',      # Méthode la plus rapide\n",
        "    reg_alpha=0.1,\n",
        "    reg_lambda=0.1\n",
        ")\n",
        "\n",
        "xgb_model = MultiOutputRegressor(xgb_base)\n",
        "print(\"Starting validation training (fast mode)...\")\n",
        "xgb_model.fit(X_train_scaled, y_train_split)\n",
        "print(\"Validation training complete!\")\n",
        "\n",
        "xgb_pred = xgb_model.predict(X_val_scaled)\n",
        "\n",
        "# Evaluate\n",
        "xgb_score = rank_correlation_score(y_val_split, xgb_pred)\n",
        "print(f\"XGBoost - Rank Correlation Sharpe: {xgb_score:.4f}\")\n",
        "\n",
        "# Select best model\n",
        "best_model = xgb_model\n",
        "best_score = xgb_score\n",
        "\n",
        "print(f\"Best model performance: {best_score:.4f}\")\n",
        "print(\"⚡ Validation completed in fast mode!\")"
      ]
    },
    {
      "cell_type": "code",
      "execution_count": null,
      "id": "66d26933",
      "metadata": {
        "id": "66d26933"
      },
      "outputs": [],
      "source": [
        "# Train final model on complete dataset\n",
        "print(\"Training final model on complete dataset...\")\n",
        "\n",
        "# Scale all data\n",
        "final_scaler = StandardScaler()\n",
        "X_full_scaled = final_scaler.fit_transform(X_train_raw)\n",
        "X_full_scaled = np.nan_to_num(X_full_scaled, nan=0.0, posinf=0.0, neginf=0.0)\n",
        "\n",
        "# Train final XGBoost model (FULL POWER parameters)\n",
        "print(\"Using optimized parameters for production model...\")\n",
        "final_model = MultiOutputRegressor(\n",
        "    xgb.XGBRegressor(\n",
        "        n_estimators=150,        # Bon compromis entre performance et vitesse\n",
        "        learning_rate=0.08,      # Équilibré\n",
        "        max_depth=5,             # Bon compromis\n",
        "        subsample=0.8,\n",
        "        colsample_bytree=0.8,\n",
        "        random_state=42,\n",
        "        n_jobs=-1,\n",
        "        tree_method='hist',\n",
        "        reg_alpha=0.1,\n",
        "        reg_lambda=0.1\n",
        "    )\n",
        ")\n",
        "\n",
        "print(\"Starting final training...\")\n",
        "final_model.fit(X_full_scaled, y_train_filled)\n",
        "print(\"Final model training complete!\")\n",
        "print(\"🚀 Production model ready with optimized parameters!\")"
      ]
    },
    {
      "cell_type": "code",
      "execution_count": null,
      "id": "4fcca576",
      "metadata": {
        "id": "4fcca576"
      },
      "outputs": [],
      "source": [
        "# Production prediction function\n",
        "def predict(\n",
        "    test: pl.DataFrame,\n",
        "    label_lags_1_batch: pl.DataFrame,\n",
        "    label_lags_2_batch: pl.DataFrame,\n",
        "    label_lags_3_batch: pl.DataFrame,\n",
        "    label_lags_4_batch: pl.DataFrame,\n",
        ") -> pl.DataFrame:\n",
        "    \"\"\"ML-powered prediction function using trained XGBoost model\"\"\"\n",
        "\n",
        "    try:\n",
        "        # Convert to pandas if needed\n",
        "        if isinstance(test, pl.DataFrame):\n",
        "            test_df = test.to_pandas()\n",
        "        else:\n",
        "            test_df = test.copy()\n",
        "\n",
        "        # Apply feature engineering\n",
        "        X_test = create_features(test_df)\n",
        "\n",
        "        # Scale features\n",
        "        X_test_scaled = final_scaler.transform(X_test)\n",
        "        X_test_scaled = np.nan_to_num(X_test_scaled, nan=0.0, posinf=0.0, neginf=0.0)\n",
        "\n",
        "        # Make predictions\n",
        "        predictions_array = final_model.predict(X_test_scaled)\n",
        "\n",
        "        # Convert to DataFrame\n",
        "        predictions_dict = {f'target_{i}': predictions_array[0, i] for i in range(NUM_TARGET_COLUMNS)}\n",
        "        predictions = pl.DataFrame(predictions_dict)\n",
        "\n",
        "        return predictions\n",
        "\n",
        "    except Exception as e:\n",
        "        print(f\"Prediction error: {e}\")\n",
        "        # Fallback predictions\n",
        "        predictions = pl.DataFrame({f'target_{i}': i / 1000 for i in range(NUM_TARGET_COLUMNS)})\n",
        "        return predictions\n",
        "\n",
        "# Test prediction function\n",
        "test_sample = train_df.tail(1)\n",
        "test_result = predict(\n",
        "    pl.DataFrame(test_sample),\n",
        "    pl.DataFrame(), pl.DataFrame(), pl.DataFrame(), pl.DataFrame()\n",
        ")\n",
        "print(f\"✅ Prediction test successful! Shape: {test_result.shape}\")\n",
        "print(f\"Sample predictions: {test_result.to_pandas().iloc[0, :5].values}\")"
      ]
    },
    {
      "cell_type": "code",
      "execution_count": null,
      "id": "04829384",
      "metadata": {
        "id": "04829384"
      },
      "outputs": [],
      "source": [
        "# Initialize inference server\n",
        "inference_server = kaggle_evaluation.mitsui_inference_server.MitsuiInferenceServer(predict)\n",
        "\n",
        "if os.getenv('KAGGLE_IS_COMPETITION_RERUN'):\n",
        "    inference_server.serve()\n",
        "else:\n",
        "    # Run local gateway for testing\n",
        "    inference_server.run_local_gateway(('.',))\n",
        "\n",
        "print(\"🎉 Mitsui Commodity Prediction Model Ready!\")\n",
        "print(f\"📊 Features: {X_full_scaled.shape[1]} | Targets: {NUM_TARGET_COLUMNS}\")\n",
        "print(f\"🏆 Validation Score: {best_score:.4f} (Rank Correlation Sharpe)\")\n",
        "print(\"🚀 Using XGBoost for superior gradient boosting performance!\")"
      ]
    }
  ],
  "metadata": {
    "colab": {
      "provenance": []
    },
    "kernelspec": {
      "display_name": "Python 3",
      "name": "python3"
    },
    "language_info": {
      "name": "python"
    }
  },
  "nbformat": 4,
  "nbformat_minor": 5
}
